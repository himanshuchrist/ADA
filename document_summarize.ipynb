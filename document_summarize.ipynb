{
 "cells": [
  {
   "cell_type": "code",
   "execution_count": 37,
   "id": "b00b2ced-18ef-466b-b3dc-72819472cbbd",
   "metadata": {},
   "outputs": [],
   "source": [
    "from sumy.parsers.plaintext import PlaintextParser\n",
    "from sumy.nlp.tokenizers import Tokenizer\n",
    "from sumy.summarizers.text_rank import TextRankSummarizer\n",
    "from sumy.summarizers.lex_rank import LexRankSummarizer\n",
    "from sumy.summarizers.lsa import LsaSummarizer"
   ]
  },
  {
   "cell_type": "code",
   "execution_count": 38,
   "id": "a5aa23b5-7bba-489a-8fd3-f65ddf7b2e0e",
   "metadata": {},
   "outputs": [],
   "source": [
    "import nltk"
   ]
  },
  {
   "cell_type": "code",
   "execution_count": 39,
   "id": "5ecf2ceb-dc55-4103-a36f-ea882135543d",
   "metadata": {},
   "outputs": [],
   "source": [
    "from nltk.tokenize import sent_tokenize, word_tokenize"
   ]
  },
  {
   "cell_type": "code",
   "execution_count": 40,
   "id": "5b22c481-cab2-430a-9126-24e5d6cd3fe7",
   "metadata": {},
   "outputs": [
    {
     "data": {
      "text/plain": [
       "\"Case Title: State of Maharashtra v. Rajesh Kumar\\n\\nCase Number: 2021/CR/5678\\n\\nCourt: High Court of Bombay\\n\\nDate: March 10, 2023\\n\\nJudge: Honorable Justice R.K. Desai\\n\\nParties:\\n\\nPlaintiff: The State of Maharashtra\\nDefendant: Rajesh Kumar\\nCharges:\\n\\nSection 302 - Indian Penal Code (IPC) - Murder\\nSection 397 - IPC - Robbery, or dacoity, with attempt to cause death or grievous hurt\\nSection 411 - IPC - Dishonestly receiving stolen property\\nSummary of Facts:\\nOn the night of October 15, 2021, the defendant, Rajesh Kumar, along with two accomplices, forcibly entered the residence of the victim, Mr. Shyam Lal, located at 45, Andheri East, Mumbai. The intruders overpowered the victim, binding him and his wife, Mrs. Kamla Lal, with ropes. They then proceeded to loot the house, taking cash, jewelry, and other valuable items.\\n\\nDuring the course of the robbery, an altercation occurred between the defendant and Mr. Shyam Lal. The defendant, in a fit of rage, struck the victim multiple times with a blunt object, resulting in Mr. Lal's death. The assailants then fled the scene with the stolen property.\\n\\nThe incident was reported by Mrs. Kamla Lal, who managed to untie herself and call the police. The police arrived promptly and initiated an investigation. Based on eyewitness accounts and forensic evidence, Rajesh Kumar was apprehended within a week and found in possession of several items identified as stolen from the Lal residence.\\n\\nEvidence Presented:\\n\\nTestimony of Mrs. Kamla Lal: The victim’s wife provided a detailed account of the events, identifying Rajesh Kumar as one of the assailants.\\nForensic Evidence: Bloodstains matching the victim’s blood type were found on the clothes of the defendant.\\nCCTV Footage: Surveillance cameras from a neighboring property captured the entry and exit of the accused.\\nRecovered Stolen Items: Jewelry and cash stolen from the Lal residence were recovered from the defendant’s hideout.\\nDefense Argument:\\nThe defense argued that Rajesh Kumar was not present at the crime scene and was wrongfully accused. They suggested that the evidence was circumstantial and that the defendant was a victim of mistaken identity. The defense also highlighted the lack of direct eyewitnesses other than the victim's wife.\\n\\nProsecution Argument:\\nThe prosecution relied on the strong testimonial evidence of Mrs. Kamla Lal, supported by forensic evidence and CCTV footage. They argued that the recovered stolen items found in the possession of the defendant conclusively linked him to the crime. The prosecution emphasized the brutality of the murder and the overwhelming evidence of the defendant's guilt.\\n\\nVerdict:\\nThe court found Rajesh Kumar guilty on all charges, including murder, robbery, and possession of stolen property.\\n\\nSentencing:\\nRajesh Kumar was sentenced to life imprisonment for the murder charge under Section 302 of the IPC. Additionally, he received ten years of rigorous imprisonment for the robbery charge under Section 397 of the IPC and five years for receiving stolen property under Section 411 of the IPC, with sentences to run concurrently.\""
      ]
     },
     "execution_count": 40,
     "metadata": {},
     "output_type": "execute_result"
    }
   ],
   "source": [
    "text=\"\"\"Case Title: State of Maharashtra v. Rajesh Kumar\n",
    "\n",
    "Case Number: 2021/CR/5678\n",
    "\n",
    "Court: High Court of Bombay\n",
    "\n",
    "Date: March 10, 2023\n",
    "\n",
    "Judge: Honorable Justice R.K. Desai\n",
    "\n",
    "Parties:\n",
    "\n",
    "Plaintiff: The State of Maharashtra\n",
    "Defendant: Rajesh Kumar\n",
    "Charges:\n",
    "\n",
    "Section 302 - Indian Penal Code (IPC) - Murder\n",
    "Section 397 - IPC - Robbery, or dacoity, with attempt to cause death or grievous hurt\n",
    "Section 411 - IPC - Dishonestly receiving stolen property\n",
    "Summary of Facts:\n",
    "On the night of October 15, 2021, the defendant, Rajesh Kumar, along with two accomplices, forcibly entered the residence of the victim, Mr. Shyam Lal, located at 45, Andheri East, Mumbai. The intruders overpowered the victim, binding him and his wife, Mrs. Kamla Lal, with ropes. They then proceeded to loot the house, taking cash, jewelry, and other valuable items.\n",
    "\n",
    "During the course of the robbery, an altercation occurred between the defendant and Mr. Shyam Lal. The defendant, in a fit of rage, struck the victim multiple times with a blunt object, resulting in Mr. Lal's death. The assailants then fled the scene with the stolen property.\n",
    "\n",
    "The incident was reported by Mrs. Kamla Lal, who managed to untie herself and call the police. The police arrived promptly and initiated an investigation. Based on eyewitness accounts and forensic evidence, Rajesh Kumar was apprehended within a week and found in possession of several items identified as stolen from the Lal residence.\n",
    "\n",
    "Evidence Presented:\n",
    "\n",
    "Testimony of Mrs. Kamla Lal: The victim’s wife provided a detailed account of the events, identifying Rajesh Kumar as one of the assailants.\n",
    "Forensic Evidence: Bloodstains matching the victim’s blood type were found on the clothes of the defendant.\n",
    "CCTV Footage: Surveillance cameras from a neighboring property captured the entry and exit of the accused.\n",
    "Recovered Stolen Items: Jewelry and cash stolen from the Lal residence were recovered from the defendant’s hideout.\n",
    "Defense Argument:\n",
    "The defense argued that Rajesh Kumar was not present at the crime scene and was wrongfully accused. They suggested that the evidence was circumstantial and that the defendant was a victim of mistaken identity. The defense also highlighted the lack of direct eyewitnesses other than the victim's wife.\n",
    "\n",
    "Prosecution Argument:\n",
    "The prosecution relied on the strong testimonial evidence of Mrs. Kamla Lal, supported by forensic evidence and CCTV footage. They argued that the recovered stolen items found in the possession of the defendant conclusively linked him to the crime. The prosecution emphasized the brutality of the murder and the overwhelming evidence of the defendant's guilt.\n",
    "\n",
    "Verdict:\n",
    "The court found Rajesh Kumar guilty on all charges, including murder, robbery, and possession of stolen property.\n",
    "\n",
    "Sentencing:\n",
    "Rajesh Kumar was sentenced to life imprisonment for the murder charge under Section 302 of the IPC. Additionally, he received ten years of rigorous imprisonment for the robbery charge under Section 397 of the IPC and five years for receiving stolen property under Section 411 of the IPC, with sentences to run concurrently.\"\"\"\n",
    "text"
   ]
  },
  {
   "cell_type": "code",
   "execution_count": 7,
   "id": "8ef74f9d-8acb-4fc3-8c75-ca691e7f951f",
   "metadata": {},
   "outputs": [
    {
     "name": "stdout",
     "output_type": "stream",
     "text": [
      "They then proceeded to loot the house, taking cash, jewelry, and other valuable items.\n",
      "Based on eyewitness accounts and forensic evidence, Rajesh Kumar was apprehended within a week and found in possession of several items identified as stolen from the Lal residence.\n",
      "Verdict: The court found Rajesh Kumar guilty on all charges, including murder, robbery, and possession of stolen property.\n"
     ]
    }
   ],
   "source": [
    "parser=PlaintextParser.from_string(text,Tokenizer(\"english\"))\n",
    "TRsummarizer=TextRankSummarizer()\n",
    "LRsummarizer=LexRankSummarizer()\n",
    "LSAsummarizer=LsaSummarizer()\n",
    "TRsummary=TRsummarizer(parser.document,3) #summarise to 3 sentences\n",
    "LRsummary=LRsummarizer(parser.document,3)\n",
    "LSAsummary=LSAsummarizer(parser.document,3)\n",
    "for sentence in LSAsummary:\n",
    "    print(sentence)"
   ]
  },
  {
   "cell_type": "code",
   "execution_count": 8,
   "id": "60cf15ec-e5a3-42c4-8558-89013db0e0f1",
   "metadata": {},
   "outputs": [],
   "source": [
    "TR_text=\"\"\n",
    "LR_text=\"\"\n",
    "LSA_text=\"\"\n",
    "for sentence in TRsummary:\n",
    "    TR_text+=str(sentence)\n",
    "for sentence in LRsummary:\n",
    "    LR_text+=str(sentence)\n",
    "for sentence in LSAsummary:\n",
    "    LSA_text+=str(sentence)"
   ]
  },
  {
   "cell_type": "code",
   "execution_count": 9,
   "id": "3e8579d1-5634-4f09-b6c6-a17a7f23732e",
   "metadata": {},
   "outputs": [],
   "source": [
    "from rouge_score import rouge_scorer\n",
    "from nltk.translate.bleu_score import sentence_bleu\n",
    "from nltk.translate.meteor_score import meteor_score"
   ]
  },
  {
   "cell_type": "code",
   "execution_count": 10,
   "id": "915d9a53-ab48-4798-ac43-658dbaa96915",
   "metadata": {},
   "outputs": [
    {
     "name": "stdout",
     "output_type": "stream",
     "text": [
      "LR Text\n",
      "rouge1 : Precision: 1.00, Recall: 0.14,F1-score:0.24\n",
      "rouge2 : Precision: 0.97, Recall: 0.13,F1-score:0.23\n",
      "rougeL : Precision: 1.00, Recall: 0.14,F1-score:0.24\n",
      "TR Text\n",
      "rouge1 : Precision: 1.00, Recall: 0.24,F1-score:0.38\n",
      "rouge2 : Precision: 0.99, Recall: 0.23,F1-score:0.38\n",
      "rougeL : Precision: 1.00, Recall: 0.24,F1-score:0.38\n",
      "LSA Text\n",
      "rouge1 : Precision: 1.00, Recall: 0.12,F1-score:0.22\n",
      "rouge2 : Precision: 0.97, Recall: 0.12,F1-score:0.21\n",
      "rougeL : Precision: 1.00, Recall: 0.12,F1-score:0.22\n"
     ]
    }
   ],
   "source": [
    "scorer=rouge_scorer.RougeScorer(['rouge1','rouge2','rougeL'],use_stemmer=True)\n",
    "ROUGEscores=scorer.score(text,LR_text)\n",
    "print(\"LR Text\")\n",
    "for key, value in ROUGEscores.items():\n",
    "    print(f\"{key} : Precision: {value.precision:.2f}, Recall: {value.recall:.2f},F1-score:{value.fmeasure:.2f}\")\n",
    "ROUGEscores=scorer.score(text,TR_text)\n",
    "print(\"TR Text\")\n",
    "for key, value in ROUGEscores.items():\n",
    "    print(f\"{key} : Precision: {value.precision:.2f}, Recall: {value.recall:.2f},F1-score:{value.fmeasure:.2f}\")\n",
    "ROUGEscores=scorer.score(text,LSA_text)\n",
    "print(\"LSA Text\")\n",
    "for key, value in ROUGEscores.items():\n",
    "    print(f\"{key} : Precision: {value.precision:.2f}, Recall: {value.recall:.2f},F1-score:{value.fmeasure:.2f}\")"
   ]
  },
  {
   "cell_type": "code",
   "execution_count": 21,
   "id": "a8343428-8d1e-416d-85ba-260f9e3766a1",
   "metadata": {},
   "outputs": [
    {
     "data": {
      "application/vnd.jupyter.widget-view+json": {
       "model_id": "bd892ce9ad9f4d09b4b55ba27a3b4bfb",
       "version_major": 2,
       "version_minor": 0
      },
      "text/plain": [
       "config.json:   0%|          | 0.00/1.58k [00:00<?, ?B/s]"
      ]
     },
     "metadata": {},
     "output_type": "display_data"
    },
    {
     "data": {
      "application/vnd.jupyter.widget-view+json": {
       "model_id": "c579e892c7cb4c25aa770d6e045e3b10",
       "version_major": 2,
       "version_minor": 0
      },
      "text/plain": [
       "model.safetensors:   0%|          | 0.00/1.63G [00:00<?, ?B/s]"
      ]
     },
     "metadata": {},
     "output_type": "display_data"
    },
    {
     "data": {
      "application/vnd.jupyter.widget-view+json": {
       "model_id": "9a3544b1e7c845df8dd513f745ea9ba6",
       "version_major": 2,
       "version_minor": 0
      },
      "text/plain": [
       "generation_config.json:   0%|          | 0.00/363 [00:00<?, ?B/s]"
      ]
     },
     "metadata": {},
     "output_type": "display_data"
    },
    {
     "data": {
      "application/vnd.jupyter.widget-view+json": {
       "model_id": "50c2dc669d934bb5931ac581af70f51d",
       "version_major": 2,
       "version_minor": 0
      },
      "text/plain": [
       "vocab.json:   0%|          | 0.00/899k [00:00<?, ?B/s]"
      ]
     },
     "metadata": {},
     "output_type": "display_data"
    },
    {
     "data": {
      "application/vnd.jupyter.widget-view+json": {
       "model_id": "e65477961c594feb94c975e39282e99a",
       "version_major": 2,
       "version_minor": 0
      },
      "text/plain": [
       "merges.txt:   0%|          | 0.00/456k [00:00<?, ?B/s]"
      ]
     },
     "metadata": {},
     "output_type": "display_data"
    },
    {
     "data": {
      "application/vnd.jupyter.widget-view+json": {
       "model_id": "51610f56f5ea4de28e5a8838edf8401e",
       "version_major": 2,
       "version_minor": 0
      },
      "text/plain": [
       "tokenizer.json:   0%|          | 0.00/1.36M [00:00<?, ?B/s]"
      ]
     },
     "metadata": {},
     "output_type": "display_data"
    }
   ],
   "source": [
    "from transformers import pipeline\n",
    "pipe = pipeline(\"summarization\", model=\"facebook/bart-large-cnn\")"
   ]
  },
  {
   "cell_type": "code",
   "execution_count": 22,
   "id": "43e45db2-f127-4b18-8eb6-caebd645788d",
   "metadata": {},
   "outputs": [
    {
     "name": "stdout",
     "output_type": "stream",
     "text": [
      "Rajesh Kumar was found guilty on all charges, including murder, robbery, and possession of stolen property. He was sentenced to life imprisonment for the murder charge under Section 302 of the IPC. He also received ten years of rigorous imprisonment for robbery under Section 397 and five years for receiving stolen property under Section 411. The prosecution emphasized the brutality of the murder and the overwhelming evidence of the defendant's guilt.\n"
     ]
    }
   ],
   "source": [
    "summary = pipe(text)\n",
    "print(summary[0]['summary_text'])"
   ]
  },
  {
   "cell_type": "code",
   "execution_count": 41,
   "id": "6c8bce0e-05eb-44d1-9dd4-829f897c960b",
   "metadata": {},
   "outputs": [
    {
     "name": "stdout",
     "output_type": "stream",
     "text": [
      "BART Text\n",
      "rouge1 : Precision: 0.99, Recall: 0.15,F1-score:0.25\n",
      "rouge2 : Precision: 0.85, Recall: 0.12,F1-score:0.22\n",
      "rougeL : Precision: 0.76, Recall: 0.11,F1-score:0.20\n"
     ]
    }
   ],
   "source": [
    "bart=summary[0]['summary_text']\n",
    "ROUGEscores=scorer.score(text,bart)\n",
    "print(\"BART Text\")\n",
    "for key, value in ROUGEscores.items():\n",
    "    print(f\"{key} : Precision: {value.precision:.2f}, Recall: {value.recall:.2f},F1-score:{value.fmeasure:.2f}\")"
   ]
  }
 ],
 "metadata": {
  "kernelspec": {
   "display_name": "Python 3 (ipykernel)",
   "language": "python",
   "name": "python3"
  },
  "language_info": {
   "codemirror_mode": {
    "name": "ipython",
    "version": 3
   },
   "file_extension": ".py",
   "mimetype": "text/x-python",
   "name": "python",
   "nbconvert_exporter": "python",
   "pygments_lexer": "ipython3",
   "version": "3.11.7"
  }
 },
 "nbformat": 4,
 "nbformat_minor": 5
}
