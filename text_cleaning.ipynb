{
 "cells": [
  {
   "cell_type": "code",
   "execution_count": 1,
   "id": "1578d011-3793-4c4d-a676-30bc0bf6e12f",
   "metadata": {},
   "outputs": [],
   "source": [
    "import re\n",
    "from nltk.tokenize import word_tokenize\n",
    "from string import punctuation\n",
    "from nltk.corpus import stopwords\n",
    "from nltk import pos_tag\n",
    "from nltk.stem import WordNetLemmatizer\n",
    "from datetime import datetime\n",
    "import contractions"
   ]
  },
  {
   "cell_type": "code",
   "execution_count": 27,
   "id": "c94a45fe-3ebb-43b4-aae9-14ec0d67ee2d",
   "metadata": {},
   "outputs": [],
   "source": [
    "def cleaning(text):\n",
    "    text=text.lower()\n",
    "    expanded_words = []    \n",
    "    for word in text.split():\n",
    "      expanded_words.append(contractions.fix(word)) \n",
    "    text=' '.join(expanded_words)\n",
    "    text=re.sub(\"\\d+\", \"\", text)\n",
    "    text=re.sub(r'http\\S+', '', text)\n",
    "    text=re.sub('\\S+@\\S+','', text)\n",
    "    text=re.sub(r'[^\\w\\s]', '', text)\n",
    "    text=[w for w in text.split() if not w.lower() in set(stopwords.words('english'))]\n",
    "    finaltext = ''\n",
    "    for i in text:\n",
    "        finaltext+=(WordNetLemmatizer().lemmatize(i))+' '\n",
    "    return finaltext"
   ]
  },
  {
   "cell_type": "code",
   "execution_count": 28,
   "id": "8b2d26ce-5ec7-4a3f-8fa7-6dbe5c5ee2ef",
   "metadata": {},
   "outputs": [],
   "source": [
    "text=\"\"\"Hey there! 😃 I can't believe it's already 2024. Did you see John's new blog post? Check it out at https://example.com/blog! Also, email me at john.doe@example.com. He mentioned something about \"stemming\" and \"lemmatization\"— interesting stuff. BTW, I'll be attending the AI conference in N.Y.C. next month!! #Excited #AI 😊 Let's catch up soon. Cheers, John\"\"\""
   ]
  },
  {
   "cell_type": "code",
   "execution_count": 29,
   "id": "5546a708-fb93-46bb-8d67-ed0183eefbe6",
   "metadata": {},
   "outputs": [
    {
     "data": {
      "text/plain": [
       "'hey cannot believe already see john new blog post check also email mentioned something stemming lemmatization interesting stuff way attending ai conference nyc next month excited ai let u catch soon cheer john '"
      ]
     },
     "execution_count": 29,
     "metadata": {},
     "output_type": "execute_result"
    }
   ],
   "source": [
    "text=cleaning(text)\n",
    "text"
   ]
  },
  {
   "cell_type": "code",
   "execution_count": null,
   "id": "7d4f8b3e-ab63-47df-bb61-e7292955d785",
   "metadata": {},
   "outputs": [],
   "source": []
  }
 ],
 "metadata": {
  "kernelspec": {
   "display_name": "Python 3 (ipykernel)",
   "language": "python",
   "name": "python3"
  },
  "language_info": {
   "codemirror_mode": {
    "name": "ipython",
    "version": 3
   },
   "file_extension": ".py",
   "mimetype": "text/x-python",
   "name": "python",
   "nbconvert_exporter": "python",
   "pygments_lexer": "ipython3",
   "version": "3.11.7"
  }
 },
 "nbformat": 4,
 "nbformat_minor": 5
}
